{
  "cells": [
    {
      "cell_type": "markdown",
      "metadata": {
        "id": "view-in-github",
        "colab_type": "text"
      },
      "source": [
        "<a href=\"https://colab.research.google.com/github/yenirsmwati/Sentiment-Analysis/blob/main/preprocessing_text_coc.ipynb\" target=\"_parent\"><img src=\"https://colab.research.google.com/assets/colab-badge.svg\" alt=\"Open In Colab\"/></a>"
      ]
    },
    {
      "cell_type": "code",
      "execution_count": null,
      "id": "14e483d2",
      "metadata": {
        "id": "14e483d2"
      },
      "outputs": [],
      "source": [
        "#!pip install nltk\n",
        "#!pip install Sastrawi"
      ]
    },
    {
      "cell_type": "markdown",
      "id": "0b008e69",
      "metadata": {
        "id": "0b008e69"
      },
      "source": [
        "## import data"
      ]
    },
    {
      "cell_type": "code",
      "execution_count": null,
      "id": "5b8433b4",
      "metadata": {
        "id": "5b8433b4"
      },
      "outputs": [],
      "source": [
        "import pandas as pd\n",
        "import re"
      ]
    },
    {
      "cell_type": "code",
      "execution_count": null,
      "id": "e2083b99",
      "metadata": {
        "id": "e2083b99"
      },
      "outputs": [],
      "source": [
        "file_path = r\"D:\\6 PORTOFOLIO\\PORTOFOLIO\\Data\\Twitter\\data_coc.csv\"\n",
        "data = pd.read_csv(file_path)"
      ]
    },
    {
      "cell_type": "code",
      "execution_count": null,
      "id": "dfe03fcb",
      "metadata": {
        "id": "dfe03fcb",
        "outputId": "175a5656-8304-4512-82e4-cd101944399f"
      },
      "outputs": [
        {
          "data": {
            "text/html": [
              "<div>\n",
              "<style scoped>\n",
              "    .dataframe tbody tr th:only-of-type {\n",
              "        vertical-align: middle;\n",
              "    }\n",
              "\n",
              "    .dataframe tbody tr th {\n",
              "        vertical-align: top;\n",
              "    }\n",
              "\n",
              "    .dataframe thead th {\n",
              "        text-align: right;\n",
              "    }\n",
              "</style>\n",
              "<table border=\"1\" class=\"dataframe\">\n",
              "  <thead>\n",
              "    <tr style=\"text-align: right;\">\n",
              "      <th></th>\n",
              "      <th>conversation_id_str</th>\n",
              "      <th>created_at</th>\n",
              "      <th>favorite_count</th>\n",
              "      <th>full_text</th>\n",
              "      <th>id_str</th>\n",
              "      <th>image_url</th>\n",
              "      <th>in_reply_to_screen_name</th>\n",
              "      <th>lang</th>\n",
              "      <th>location</th>\n",
              "      <th>quote_count</th>\n",
              "      <th>reply_count</th>\n",
              "      <th>retweet_count</th>\n",
              "      <th>tweet_url</th>\n",
              "      <th>user_id_str</th>\n",
              "      <th>username</th>\n",
              "    </tr>\n",
              "  </thead>\n",
              "  <tbody>\n",
              "    <tr>\n",
              "      <th>0</th>\n",
              "      <td>1811903757695045980</td>\n",
              "      <td>Fri Jul 12 23:21:34 +0000 2024</td>\n",
              "      <td>0</td>\n",
              "      <td>Gara gara pengen nonton Class of Champions leb...</td>\n",
              "      <td>1811903757695045980</td>\n",
              "      <td>NaN</td>\n",
              "      <td>NaN</td>\n",
              "      <td>in</td>\n",
              "      <td>Bogor - Pekanbaru - Tembilahan</td>\n",
              "      <td>0</td>\n",
              "      <td>0</td>\n",
              "      <td>0</td>\n",
              "      <td>https://x.com/ArismalRezki/status/181190375769...</td>\n",
              "      <td>298315690</td>\n",
              "      <td>ArismalRezki</td>\n",
              "    </tr>\n",
              "    <tr>\n",
              "      <th>1</th>\n",
              "      <td>1811832104894013783</td>\n",
              "      <td>Fri Jul 12 18:36:50 +0000 2024</td>\n",
              "      <td>0</td>\n",
              "      <td>Aku lagi nonton class of champions by ruanggur...</td>\n",
              "      <td>1811832104894013783</td>\n",
              "      <td>NaN</td>\n",
              "      <td>NaN</td>\n",
              "      <td>in</td>\n",
              "      <td>Jambi, Indonesia</td>\n",
              "      <td>0</td>\n",
              "      <td>0</td>\n",
              "      <td>0</td>\n",
              "      <td>https://x.com/clkhrnisa/status/181183210489401...</td>\n",
              "      <td>1647577282696060929</td>\n",
              "      <td>clkhrnisa</td>\n",
              "    </tr>\n",
              "    <tr>\n",
              "      <th>2</th>\n",
              "      <td>1811774284093923417</td>\n",
              "      <td>Fri Jul 12 14:51:41 +0000 2024</td>\n",
              "      <td>0</td>\n",
              "      <td>@yukisangs Maxwell itu peserta class of champi...</td>\n",
              "      <td>1811775445169586550</td>\n",
              "      <td>NaN</td>\n",
              "      <td>yukisangs</td>\n",
              "      <td>in</td>\n",
              "      <td>regrettably, on earth</td>\n",
              "      <td>0</td>\n",
              "      <td>1</td>\n",
              "      <td>0</td>\n",
              "      <td>https://x.com/nyanningbelly/status/18117754451...</td>\n",
              "      <td>1171328768</td>\n",
              "      <td>nyanningbelly</td>\n",
              "    </tr>\n",
              "    <tr>\n",
              "      <th>3</th>\n",
              "      <td>1811756134568697955</td>\n",
              "      <td>Fri Jul 12 13:34:57 +0000 2024</td>\n",
              "      <td>33</td>\n",
              "      <td>ah seru sekali heboh sendiri thanks class of c...</td>\n",
              "      <td>1811756134568697955</td>\n",
              "      <td>NaN</td>\n",
              "      <td>NaN</td>\n",
              "      <td>in</td>\n",
              "      <td>lautan luas</td>\n",
              "      <td>0</td>\n",
              "      <td>5</td>\n",
              "      <td>0</td>\n",
              "      <td>https://x.com/elixiroflive/status/181175613456...</td>\n",
              "      <td>1222093322375716869</td>\n",
              "      <td>elixiroflive</td>\n",
              "    </tr>\n",
              "    <tr>\n",
              "      <th>4</th>\n",
              "      <td>1666346936411246593</td>\n",
              "      <td>Fri Jul 12 12:00:06 +0000 2024</td>\n",
              "      <td>0</td>\n",
              "      <td>pendaftaran paket brain academy online sma+utb...</td>\n",
              "      <td>1811732264868249974</td>\n",
              "      <td>https://pbs.twimg.com/media/GSSQ41NaYAAoZ2o.jpg</td>\n",
              "      <td>kodisruangguru</td>\n",
              "      <td>in</td>\n",
              "      <td>Jakarta - Jogjakarta</td>\n",
              "      <td>0</td>\n",
              "      <td>1</td>\n",
              "      <td>0</td>\n",
              "      <td>https://x.com/kodisruangguru/status/1811732264...</td>\n",
              "      <td>1403887460883386370</td>\n",
              "      <td>kodisruangguru</td>\n",
              "    </tr>\n",
              "  </tbody>\n",
              "</table>\n",
              "</div>"
            ],
            "text/plain": [
              "   conversation_id_str                      created_at  favorite_count  \\\n",
              "0  1811903757695045980  Fri Jul 12 23:21:34 +0000 2024               0   \n",
              "1  1811832104894013783  Fri Jul 12 18:36:50 +0000 2024               0   \n",
              "2  1811774284093923417  Fri Jul 12 14:51:41 +0000 2024               0   \n",
              "3  1811756134568697955  Fri Jul 12 13:34:57 +0000 2024              33   \n",
              "4  1666346936411246593  Fri Jul 12 12:00:06 +0000 2024               0   \n",
              "\n",
              "                                           full_text               id_str  \\\n",
              "0  Gara gara pengen nonton Class of Champions leb...  1811903757695045980   \n",
              "1  Aku lagi nonton class of champions by ruanggur...  1811832104894013783   \n",
              "2  @yukisangs Maxwell itu peserta class of champi...  1811775445169586550   \n",
              "3  ah seru sekali heboh sendiri thanks class of c...  1811756134568697955   \n",
              "4  pendaftaran paket brain academy online sma+utb...  1811732264868249974   \n",
              "\n",
              "                                         image_url in_reply_to_screen_name  \\\n",
              "0                                              NaN                     NaN   \n",
              "1                                              NaN                     NaN   \n",
              "2                                              NaN               yukisangs   \n",
              "3                                              NaN                     NaN   \n",
              "4  https://pbs.twimg.com/media/GSSQ41NaYAAoZ2o.jpg          kodisruangguru   \n",
              "\n",
              "  lang                        location  quote_count  reply_count  \\\n",
              "0   in  Bogor - Pekanbaru - Tembilahan            0            0   \n",
              "1   in                Jambi, Indonesia            0            0   \n",
              "2   in           regrettably, on earth            0            1   \n",
              "3   in                     lautan luas            0            5   \n",
              "4   in            Jakarta - Jogjakarta            0            1   \n",
              "\n",
              "   retweet_count                                          tweet_url  \\\n",
              "0              0  https://x.com/ArismalRezki/status/181190375769...   \n",
              "1              0  https://x.com/clkhrnisa/status/181183210489401...   \n",
              "2              0  https://x.com/nyanningbelly/status/18117754451...   \n",
              "3              0  https://x.com/elixiroflive/status/181175613456...   \n",
              "4              0  https://x.com/kodisruangguru/status/1811732264...   \n",
              "\n",
              "           user_id_str        username  \n",
              "0            298315690    ArismalRezki  \n",
              "1  1647577282696060929       clkhrnisa  \n",
              "2           1171328768   nyanningbelly  \n",
              "3  1222093322375716869    elixiroflive  \n",
              "4  1403887460883386370  kodisruangguru  "
            ]
          },
          "execution_count": 3,
          "metadata": {},
          "output_type": "execute_result"
        }
      ],
      "source": [
        "data.head()"
      ]
    },
    {
      "cell_type": "code",
      "execution_count": null,
      "id": "4a7fb3e8",
      "metadata": {
        "id": "4a7fb3e8",
        "outputId": "a006b74d-d3a6-4fec-f4e1-622d34b75189"
      },
      "outputs": [
        {
          "name": "stdout",
          "output_type": "stream",
          "text": [
            "<class 'pandas.core.frame.DataFrame'>\n",
            "RangeIndex: 707 entries, 0 to 706\n",
            "Data columns (total 15 columns):\n",
            " #   Column                   Non-Null Count  Dtype \n",
            "---  ------                   --------------  ----- \n",
            " 0   conversation_id_str      707 non-null    int64 \n",
            " 1   created_at               707 non-null    object\n",
            " 2   favorite_count           707 non-null    int64 \n",
            " 3   full_text                707 non-null    object\n",
            " 4   id_str                   707 non-null    int64 \n",
            " 5   image_url                120 non-null    object\n",
            " 6   in_reply_to_screen_name  137 non-null    object\n",
            " 7   lang                     707 non-null    object\n",
            " 8   location                 356 non-null    object\n",
            " 9   quote_count              707 non-null    int64 \n",
            " 10  reply_count              707 non-null    int64 \n",
            " 11  retweet_count            707 non-null    int64 \n",
            " 12  tweet_url                707 non-null    object\n",
            " 13  user_id_str              707 non-null    int64 \n",
            " 14  username                 707 non-null    object\n",
            "dtypes: int64(7), object(8)\n",
            "memory usage: 83.0+ KB\n"
          ]
        }
      ],
      "source": [
        "data.info()"
      ]
    },
    {
      "cell_type": "markdown",
      "id": "99c8a7e2",
      "metadata": {
        "id": "99c8a7e2"
      },
      "source": [
        "## data cleaning"
      ]
    },
    {
      "cell_type": "code",
      "execution_count": null,
      "id": "2b8bcb90",
      "metadata": {
        "id": "2b8bcb90",
        "outputId": "8c398765-8887-4c5f-9963-066d35a3832a"
      },
      "outputs": [
        {
          "data": {
            "text/plain": [
              "(707, 15)"
            ]
          },
          "execution_count": 5,
          "metadata": {},
          "output_type": "execute_result"
        }
      ],
      "source": [
        "data.shape"
      ]
    },
    {
      "cell_type": "code",
      "execution_count": null,
      "id": "f36f7a82",
      "metadata": {
        "id": "f36f7a82"
      },
      "outputs": [],
      "source": [
        "data.drop_duplicates(subset=\"full_text\", keep = 'first', inplace = True)"
      ]
    },
    {
      "cell_type": "code",
      "execution_count": null,
      "id": "e89aa358",
      "metadata": {
        "id": "e89aa358",
        "outputId": "7aa12c2d-293f-47f8-a3ad-caa29635ebde"
      },
      "outputs": [
        {
          "data": {
            "text/plain": [
              "(706, 15)"
            ]
          },
          "execution_count": 7,
          "metadata": {},
          "output_type": "execute_result"
        }
      ],
      "source": [
        "data.shape"
      ]
    },
    {
      "cell_type": "code",
      "execution_count": null,
      "id": "04d403c2",
      "metadata": {
        "id": "04d403c2"
      },
      "outputs": [],
      "source": [
        "data_coc = data[['full_text']]"
      ]
    },
    {
      "cell_type": "code",
      "execution_count": null,
      "id": "4356a91d",
      "metadata": {
        "id": "4356a91d",
        "outputId": "d846fde1-e5db-44d8-c848-19f34271aa2f"
      },
      "outputs": [
        {
          "data": {
            "text/html": [
              "<div>\n",
              "<style scoped>\n",
              "    .dataframe tbody tr th:only-of-type {\n",
              "        vertical-align: middle;\n",
              "    }\n",
              "\n",
              "    .dataframe tbody tr th {\n",
              "        vertical-align: top;\n",
              "    }\n",
              "\n",
              "    .dataframe thead th {\n",
              "        text-align: right;\n",
              "    }\n",
              "</style>\n",
              "<table border=\"1\" class=\"dataframe\">\n",
              "  <thead>\n",
              "    <tr style=\"text-align: right;\">\n",
              "      <th></th>\n",
              "      <th>full_text</th>\n",
              "    </tr>\n",
              "  </thead>\n",
              "  <tbody>\n",
              "    <tr>\n",
              "      <th>0</th>\n",
              "      <td>Gara gara pengen nonton Class of Champions leb...</td>\n",
              "    </tr>\n",
              "    <tr>\n",
              "      <th>1</th>\n",
              "      <td>Aku lagi nonton class of champions by ruanggur...</td>\n",
              "    </tr>\n",
              "    <tr>\n",
              "      <th>2</th>\n",
              "      <td>@yukisangs Maxwell itu peserta class of champi...</td>\n",
              "    </tr>\n",
              "    <tr>\n",
              "      <th>3</th>\n",
              "      <td>ah seru sekali heboh sendiri thanks class of c...</td>\n",
              "    </tr>\n",
              "    <tr>\n",
              "      <th>4</th>\n",
              "      <td>pendaftaran paket brain academy online sma+utb...</td>\n",
              "    </tr>\n",
              "  </tbody>\n",
              "</table>\n",
              "</div>"
            ],
            "text/plain": [
              "                                           full_text\n",
              "0  Gara gara pengen nonton Class of Champions leb...\n",
              "1  Aku lagi nonton class of champions by ruanggur...\n",
              "2  @yukisangs Maxwell itu peserta class of champi...\n",
              "3  ah seru sekali heboh sendiri thanks class of c...\n",
              "4  pendaftaran paket brain academy online sma+utb..."
            ]
          },
          "execution_count": 9,
          "metadata": {},
          "output_type": "execute_result"
        }
      ],
      "source": [
        "data_coc.head()"
      ]
    },
    {
      "cell_type": "markdown",
      "id": "8ae43838",
      "metadata": {
        "id": "8ae43838"
      },
      "source": [
        "## casefolding"
      ]
    },
    {
      "cell_type": "code",
      "execution_count": null,
      "id": "5349e556",
      "metadata": {
        "id": "5349e556"
      },
      "outputs": [],
      "source": [
        "import string"
      ]
    },
    {
      "cell_type": "code",
      "execution_count": null,
      "id": "c8fc1bdb",
      "metadata": {
        "id": "c8fc1bdb"
      },
      "outputs": [],
      "source": [
        "def preprocess_text(kalimat):\n",
        "    #mengubah kedalam huruf kecil semua\n",
        "    lower_case=kalimat.lower()\n",
        "\n",
        "    #menghapus angka\n",
        "    hasil = re.sub(r\"\\d+\", \"\", lower_case)\n",
        "\n",
        "    #menghapus tanda baca\n",
        "    hasil = hasil.translate(str.maketrans(\"\",\"\",string.punctuation))\n",
        "\n",
        "    #menghapus spasi awal dan akhir\n",
        "    hasil = hasil.strip()\n",
        "\n",
        "    return hasil"
      ]
    },
    {
      "cell_type": "code",
      "execution_count": null,
      "id": "e8851364",
      "metadata": {
        "id": "e8851364",
        "outputId": "039d5e4e-7886-473a-8404-00efa56bfeb6"
      },
      "outputs": [
        {
          "name": "stderr",
          "output_type": "stream",
          "text": [
            "D:\\Anaconda\\lib\\site-packages\\ipykernel_launcher.py:1: SettingWithCopyWarning: \n",
            "A value is trying to be set on a copy of a slice from a DataFrame.\n",
            "Try using .loc[row_indexer,col_indexer] = value instead\n",
            "\n",
            "See the caveats in the documentation: https://pandas.pydata.org/pandas-docs/stable/user_guide/indexing.html#returning-a-view-versus-a-copy\n",
            "  \"\"\"Entry point for launching an IPython kernel.\n"
          ]
        },
        {
          "data": {
            "text/html": [
              "<div>\n",
              "<style scoped>\n",
              "    .dataframe tbody tr th:only-of-type {\n",
              "        vertical-align: middle;\n",
              "    }\n",
              "\n",
              "    .dataframe tbody tr th {\n",
              "        vertical-align: top;\n",
              "    }\n",
              "\n",
              "    .dataframe thead th {\n",
              "        text-align: right;\n",
              "    }\n",
              "</style>\n",
              "<table border=\"1\" class=\"dataframe\">\n",
              "  <thead>\n",
              "    <tr style=\"text-align: right;\">\n",
              "      <th></th>\n",
              "      <th>full_text</th>\n",
              "      <th>cleaning</th>\n",
              "    </tr>\n",
              "  </thead>\n",
              "  <tbody>\n",
              "    <tr>\n",
              "      <th>0</th>\n",
              "      <td>Gara gara pengen nonton Class of Champions leb...</td>\n",
              "      <td>gara gara pengen nonton class of champions leb...</td>\n",
              "    </tr>\n",
              "    <tr>\n",
              "      <th>1</th>\n",
              "      <td>Aku lagi nonton class of champions by ruanggur...</td>\n",
              "      <td>aku lagi nonton class of champions by ruanggur...</td>\n",
              "    </tr>\n",
              "    <tr>\n",
              "      <th>2</th>\n",
              "      <td>@yukisangs Maxwell itu peserta class of champi...</td>\n",
              "      <td>yukisangs maxwell itu peserta class of champio...</td>\n",
              "    </tr>\n",
              "    <tr>\n",
              "      <th>3</th>\n",
              "      <td>ah seru sekali heboh sendiri thanks class of c...</td>\n",
              "      <td>ah seru sekali heboh sendiri thanks class of c...</td>\n",
              "    </tr>\n",
              "    <tr>\n",
              "      <th>4</th>\n",
              "      <td>pendaftaran paket brain academy online sma+utb...</td>\n",
              "      <td>pendaftaran paket brain academy online smautbk...</td>\n",
              "    </tr>\n",
              "    <tr>\n",
              "      <th>5</th>\n",
              "      <td>Sandy Mengaku Kena Mental di Ruang Guru Class ...</td>\n",
              "      <td>sandy mengaku kena mental di ruang guru class ...</td>\n",
              "    </tr>\n",
              "    <tr>\n",
              "      <th>6</th>\n",
              "      <td>Smart move from Ruangguru - clash of champion ...</td>\n",
              "      <td>smart move from ruangguru  clash of champion  ...</td>\n",
              "    </tr>\n",
              "    <tr>\n",
              "      <th>7</th>\n",
              "      <td>Siapa yang lg live teaching di ruangguru baren...</td>\n",
              "      <td>siapa yang lg live teaching di ruangguru baren...</td>\n",
              "    </tr>\n",
              "    <tr>\n",
              "      <th>8</th>\n",
              "      <td>Berkat Class of Champions by Ruangguru aku bis...</td>\n",
              "      <td>berkat class of champions by ruangguru aku bis...</td>\n",
              "    </tr>\n",
              "    <tr>\n",
              "      <th>9</th>\n",
              "      <td>Tapi keren ya acara Class of Champion ini @rua...</td>\n",
              "      <td>tapi keren ya acara class of champion ini ruan...</td>\n",
              "    </tr>\n",
              "    <tr>\n",
              "      <th>10</th>\n",
              "      <td>hidupku sepi untung ruang guru ngadain class ...</td>\n",
              "      <td>hidupku sepi untung ruang guru ngadain class o...</td>\n",
              "    </tr>\n",
              "    <tr>\n",
              "      <th>11</th>\n",
              "      <td>Nonton class of champions nya ruangguru kok ma...</td>\n",
              "      <td>nonton class of champions nya ruangguru kok ma...</td>\n",
              "    </tr>\n",
              "    <tr>\n",
              "      <th>12</th>\n",
              "      <td>@itsmofahri @BaseBDG xaviera peserta ruangguru...</td>\n",
              "      <td>itsmofahri basebdg xaviera peserta ruangguru c...</td>\n",
              "    </tr>\n",
              "    <tr>\n",
              "      <th>13</th>\n",
              "      <td>@cherrywon_17 Sandy Yesaya adalah dua adik ber...</td>\n",
              "      <td>cherrywon sandy yesaya adalah dua adik beradik...</td>\n",
              "    </tr>\n",
              "    <tr>\n",
              "      <th>14</th>\n",
              "      <td>Ada yang mau belajar langsung bareng kaka kaka...</td>\n",
              "      <td>ada yang mau belajar langsung bareng kaka kaka...</td>\n",
              "    </tr>\n",
              "    <tr>\n",
              "      <th>15</th>\n",
              "      <td>nonton class of champions nya ruang guru ya Al...</td>\n",
              "      <td>nonton class of champions nya ruang guru ya al...</td>\n",
              "    </tr>\n",
              "    <tr>\n",
              "      <th>16</th>\n",
              "      <td>pas nonton Class Of Champion ruangguru rasa fa...</td>\n",
              "      <td>pas nonton class of champion ruangguru rasa fa...</td>\n",
              "    </tr>\n",
              "    <tr>\n",
              "      <th>17</th>\n",
              "      <td>sebenernya bisa tapi lupa berasa ikut class of...</td>\n",
              "      <td>sebenernya bisa tapi lupa berasa ikut class of...</td>\n",
              "    </tr>\n",
              "    <tr>\n",
              "      <th>18</th>\n",
              "      <td>@Aromatica Castnya Class of Champions ruanggur...</td>\n",
              "      <td>aromatica castnya class of champions ruangguru...</td>\n",
              "    </tr>\n",
              "    <tr>\n",
              "      <th>19</th>\n",
              "      <td>Lagi myobain liat class of champion nya ruang ...</td>\n",
              "      <td>lagi myobain liat class of champion nya ruang ...</td>\n",
              "    </tr>\n",
              "  </tbody>\n",
              "</table>\n",
              "</div>"
            ],
            "text/plain": [
              "                                            full_text  \\\n",
              "0   Gara gara pengen nonton Class of Champions leb...   \n",
              "1   Aku lagi nonton class of champions by ruanggur...   \n",
              "2   @yukisangs Maxwell itu peserta class of champi...   \n",
              "3   ah seru sekali heboh sendiri thanks class of c...   \n",
              "4   pendaftaran paket brain academy online sma+utb...   \n",
              "5   Sandy Mengaku Kena Mental di Ruang Guru Class ...   \n",
              "6   Smart move from Ruangguru - clash of champion ...   \n",
              "7   Siapa yang lg live teaching di ruangguru baren...   \n",
              "8   Berkat Class of Champions by Ruangguru aku bis...   \n",
              "9   Tapi keren ya acara Class of Champion ini @rua...   \n",
              "10   hidupku sepi untung ruang guru ngadain class ...   \n",
              "11  Nonton class of champions nya ruangguru kok ma...   \n",
              "12  @itsmofahri @BaseBDG xaviera peserta ruangguru...   \n",
              "13  @cherrywon_17 Sandy Yesaya adalah dua adik ber...   \n",
              "14  Ada yang mau belajar langsung bareng kaka kaka...   \n",
              "15  nonton class of champions nya ruang guru ya Al...   \n",
              "16  pas nonton Class Of Champion ruangguru rasa fa...   \n",
              "17  sebenernya bisa tapi lupa berasa ikut class of...   \n",
              "18  @Aromatica Castnya Class of Champions ruanggur...   \n",
              "19  Lagi myobain liat class of champion nya ruang ...   \n",
              "\n",
              "                                             cleaning  \n",
              "0   gara gara pengen nonton class of champions leb...  \n",
              "1   aku lagi nonton class of champions by ruanggur...  \n",
              "2   yukisangs maxwell itu peserta class of champio...  \n",
              "3   ah seru sekali heboh sendiri thanks class of c...  \n",
              "4   pendaftaran paket brain academy online smautbk...  \n",
              "5   sandy mengaku kena mental di ruang guru class ...  \n",
              "6   smart move from ruangguru  clash of champion  ...  \n",
              "7   siapa yang lg live teaching di ruangguru baren...  \n",
              "8   berkat class of champions by ruangguru aku bis...  \n",
              "9   tapi keren ya acara class of champion ini ruan...  \n",
              "10  hidupku sepi untung ruang guru ngadain class o...  \n",
              "11  nonton class of champions nya ruangguru kok ma...  \n",
              "12  itsmofahri basebdg xaviera peserta ruangguru c...  \n",
              "13  cherrywon sandy yesaya adalah dua adik beradik...  \n",
              "14  ada yang mau belajar langsung bareng kaka kaka...  \n",
              "15  nonton class of champions nya ruang guru ya al...  \n",
              "16  pas nonton class of champion ruangguru rasa fa...  \n",
              "17  sebenernya bisa tapi lupa berasa ikut class of...  \n",
              "18  aromatica castnya class of champions ruangguru...  \n",
              "19  lagi myobain liat class of champion nya ruang ...  "
            ]
          },
          "execution_count": 12,
          "metadata": {},
          "output_type": "execute_result"
        }
      ],
      "source": [
        "data_coc['cleaning'] = data_coc['full_text'].apply(preprocess_text)\n",
        "data_coc.head(20)"
      ]
    },
    {
      "cell_type": "markdown",
      "id": "72087c3c",
      "metadata": {
        "id": "72087c3c"
      },
      "source": [
        "## tokenizing"
      ]
    },
    {
      "cell_type": "code",
      "execution_count": null,
      "id": "b9900157",
      "metadata": {
        "id": "b9900157"
      },
      "outputs": [],
      "source": [
        "import nltk\n",
        "from nltk.tokenize import word_tokenize"
      ]
    },
    {
      "cell_type": "code",
      "execution_count": null,
      "id": "826d9845",
      "metadata": {
        "id": "826d9845"
      },
      "outputs": [],
      "source": [
        "def tokenize_text(kalimat):\n",
        "    tokens = nltk.tokenize.word_tokenize(kalimat)\n",
        "    return tokens"
      ]
    },
    {
      "cell_type": "code",
      "execution_count": null,
      "id": "54ea8031",
      "metadata": {
        "id": "54ea8031",
        "outputId": "b33f125a-bb81-4a34-eeea-82dd916364f1"
      },
      "outputs": [
        {
          "name": "stderr",
          "output_type": "stream",
          "text": [
            "D:\\Anaconda\\lib\\site-packages\\ipykernel_launcher.py:1: SettingWithCopyWarning: \n",
            "A value is trying to be set on a copy of a slice from a DataFrame.\n",
            "Try using .loc[row_indexer,col_indexer] = value instead\n",
            "\n",
            "See the caveats in the documentation: https://pandas.pydata.org/pandas-docs/stable/user_guide/indexing.html#returning-a-view-versus-a-copy\n",
            "  \"\"\"Entry point for launching an IPython kernel.\n"
          ]
        },
        {
          "data": {
            "text/html": [
              "<div>\n",
              "<style scoped>\n",
              "    .dataframe tbody tr th:only-of-type {\n",
              "        vertical-align: middle;\n",
              "    }\n",
              "\n",
              "    .dataframe tbody tr th {\n",
              "        vertical-align: top;\n",
              "    }\n",
              "\n",
              "    .dataframe thead th {\n",
              "        text-align: right;\n",
              "    }\n",
              "</style>\n",
              "<table border=\"1\" class=\"dataframe\">\n",
              "  <thead>\n",
              "    <tr style=\"text-align: right;\">\n",
              "      <th></th>\n",
              "      <th>full_text</th>\n",
              "      <th>cleaning</th>\n",
              "      <th>tokenize</th>\n",
              "    </tr>\n",
              "  </thead>\n",
              "  <tbody>\n",
              "    <tr>\n",
              "      <th>0</th>\n",
              "      <td>Gara gara pengen nonton Class of Champions leb...</td>\n",
              "      <td>gara gara pengen nonton class of champions leb...</td>\n",
              "      <td>[gara, gara, pengen, nonton, class, of, champi...</td>\n",
              "    </tr>\n",
              "    <tr>\n",
              "      <th>1</th>\n",
              "      <td>Aku lagi nonton class of champions by ruanggur...</td>\n",
              "      <td>aku lagi nonton class of champions by ruanggur...</td>\n",
              "      <td>[aku, lagi, nonton, class, of, champions, by, ...</td>\n",
              "    </tr>\n",
              "    <tr>\n",
              "      <th>2</th>\n",
              "      <td>@yukisangs Maxwell itu peserta class of champi...</td>\n",
              "      <td>yukisangs maxwell itu peserta class of champio...</td>\n",
              "      <td>[yukisangs, maxwell, itu, peserta, class, of, ...</td>\n",
              "    </tr>\n",
              "    <tr>\n",
              "      <th>3</th>\n",
              "      <td>ah seru sekali heboh sendiri thanks class of c...</td>\n",
              "      <td>ah seru sekali heboh sendiri thanks class of c...</td>\n",
              "      <td>[ah, seru, sekali, heboh, sendiri, thanks, cla...</td>\n",
              "    </tr>\n",
              "    <tr>\n",
              "      <th>4</th>\n",
              "      <td>pendaftaran paket brain academy online sma+utb...</td>\n",
              "      <td>pendaftaran paket brain academy online smautbk...</td>\n",
              "      <td>[pendaftaran, paket, brain, academy, online, s...</td>\n",
              "    </tr>\n",
              "    <tr>\n",
              "      <th>5</th>\n",
              "      <td>Sandy Mengaku Kena Mental di Ruang Guru Class ...</td>\n",
              "      <td>sandy mengaku kena mental di ruang guru class ...</td>\n",
              "      <td>[sandy, mengaku, kena, mental, di, ruang, guru...</td>\n",
              "    </tr>\n",
              "    <tr>\n",
              "      <th>6</th>\n",
              "      <td>Smart move from Ruangguru - clash of champion ...</td>\n",
              "      <td>smart move from ruangguru  clash of champion  ...</td>\n",
              "      <td>[smart, move, from, ruangguru, clash, of, cham...</td>\n",
              "    </tr>\n",
              "    <tr>\n",
              "      <th>7</th>\n",
              "      <td>Siapa yang lg live teaching di ruangguru baren...</td>\n",
              "      <td>siapa yang lg live teaching di ruangguru baren...</td>\n",
              "      <td>[siapa, yang, lg, live, teaching, di, ruanggur...</td>\n",
              "    </tr>\n",
              "    <tr>\n",
              "      <th>8</th>\n",
              "      <td>Berkat Class of Champions by Ruangguru aku bis...</td>\n",
              "      <td>berkat class of champions by ruangguru aku bis...</td>\n",
              "      <td>[berkat, class, of, champions, by, ruangguru, ...</td>\n",
              "    </tr>\n",
              "    <tr>\n",
              "      <th>9</th>\n",
              "      <td>Tapi keren ya acara Class of Champion ini @rua...</td>\n",
              "      <td>tapi keren ya acara class of champion ini ruan...</td>\n",
              "      <td>[tapi, keren, ya, acara, class, of, champion, ...</td>\n",
              "    </tr>\n",
              "    <tr>\n",
              "      <th>10</th>\n",
              "      <td>hidupku sepi untung ruang guru ngadain class ...</td>\n",
              "      <td>hidupku sepi untung ruang guru ngadain class o...</td>\n",
              "      <td>[hidupku, sepi, untung, ruang, guru, ngadain, ...</td>\n",
              "    </tr>\n",
              "    <tr>\n",
              "      <th>11</th>\n",
              "      <td>Nonton class of champions nya ruangguru kok ma...</td>\n",
              "      <td>nonton class of champions nya ruangguru kok ma...</td>\n",
              "      <td>[nonton, class, of, champions, nya, ruangguru,...</td>\n",
              "    </tr>\n",
              "    <tr>\n",
              "      <th>12</th>\n",
              "      <td>@itsmofahri @BaseBDG xaviera peserta ruangguru...</td>\n",
              "      <td>itsmofahri basebdg xaviera peserta ruangguru c...</td>\n",
              "      <td>[itsmofahri, basebdg, xaviera, peserta, ruangg...</td>\n",
              "    </tr>\n",
              "    <tr>\n",
              "      <th>13</th>\n",
              "      <td>@cherrywon_17 Sandy Yesaya adalah dua adik ber...</td>\n",
              "      <td>cherrywon sandy yesaya adalah dua adik beradik...</td>\n",
              "      <td>[cherrywon, sandy, yesaya, adalah, dua, adik, ...</td>\n",
              "    </tr>\n",
              "    <tr>\n",
              "      <th>14</th>\n",
              "      <td>Ada yang mau belajar langsung bareng kaka kaka...</td>\n",
              "      <td>ada yang mau belajar langsung bareng kaka kaka...</td>\n",
              "      <td>[ada, yang, mau, belajar, langsung, bareng, ka...</td>\n",
              "    </tr>\n",
              "    <tr>\n",
              "      <th>15</th>\n",
              "      <td>nonton class of champions nya ruang guru ya Al...</td>\n",
              "      <td>nonton class of champions nya ruang guru ya al...</td>\n",
              "      <td>[nonton, class, of, champions, nya, ruang, gur...</td>\n",
              "    </tr>\n",
              "    <tr>\n",
              "      <th>16</th>\n",
              "      <td>pas nonton Class Of Champion ruangguru rasa fa...</td>\n",
              "      <td>pas nonton class of champion ruangguru rasa fa...</td>\n",
              "      <td>[pas, nonton, class, of, champion, ruangguru, ...</td>\n",
              "    </tr>\n",
              "    <tr>\n",
              "      <th>17</th>\n",
              "      <td>sebenernya bisa tapi lupa berasa ikut class of...</td>\n",
              "      <td>sebenernya bisa tapi lupa berasa ikut class of...</td>\n",
              "      <td>[sebenernya, bisa, tapi, lupa, berasa, ikut, c...</td>\n",
              "    </tr>\n",
              "    <tr>\n",
              "      <th>18</th>\n",
              "      <td>@Aromatica Castnya Class of Champions ruanggur...</td>\n",
              "      <td>aromatica castnya class of champions ruangguru...</td>\n",
              "      <td>[aromatica, castnya, class, of, champions, rua...</td>\n",
              "    </tr>\n",
              "    <tr>\n",
              "      <th>19</th>\n",
              "      <td>Lagi myobain liat class of champion nya ruang ...</td>\n",
              "      <td>lagi myobain liat class of champion nya ruang ...</td>\n",
              "      <td>[lagi, myobain, liat, class, of, champion, nya...</td>\n",
              "    </tr>\n",
              "  </tbody>\n",
              "</table>\n",
              "</div>"
            ],
            "text/plain": [
              "                                            full_text  \\\n",
              "0   Gara gara pengen nonton Class of Champions leb...   \n",
              "1   Aku lagi nonton class of champions by ruanggur...   \n",
              "2   @yukisangs Maxwell itu peserta class of champi...   \n",
              "3   ah seru sekali heboh sendiri thanks class of c...   \n",
              "4   pendaftaran paket brain academy online sma+utb...   \n",
              "5   Sandy Mengaku Kena Mental di Ruang Guru Class ...   \n",
              "6   Smart move from Ruangguru - clash of champion ...   \n",
              "7   Siapa yang lg live teaching di ruangguru baren...   \n",
              "8   Berkat Class of Champions by Ruangguru aku bis...   \n",
              "9   Tapi keren ya acara Class of Champion ini @rua...   \n",
              "10   hidupku sepi untung ruang guru ngadain class ...   \n",
              "11  Nonton class of champions nya ruangguru kok ma...   \n",
              "12  @itsmofahri @BaseBDG xaviera peserta ruangguru...   \n",
              "13  @cherrywon_17 Sandy Yesaya adalah dua adik ber...   \n",
              "14  Ada yang mau belajar langsung bareng kaka kaka...   \n",
              "15  nonton class of champions nya ruang guru ya Al...   \n",
              "16  pas nonton Class Of Champion ruangguru rasa fa...   \n",
              "17  sebenernya bisa tapi lupa berasa ikut class of...   \n",
              "18  @Aromatica Castnya Class of Champions ruanggur...   \n",
              "19  Lagi myobain liat class of champion nya ruang ...   \n",
              "\n",
              "                                             cleaning  \\\n",
              "0   gara gara pengen nonton class of champions leb...   \n",
              "1   aku lagi nonton class of champions by ruanggur...   \n",
              "2   yukisangs maxwell itu peserta class of champio...   \n",
              "3   ah seru sekali heboh sendiri thanks class of c...   \n",
              "4   pendaftaran paket brain academy online smautbk...   \n",
              "5   sandy mengaku kena mental di ruang guru class ...   \n",
              "6   smart move from ruangguru  clash of champion  ...   \n",
              "7   siapa yang lg live teaching di ruangguru baren...   \n",
              "8   berkat class of champions by ruangguru aku bis...   \n",
              "9   tapi keren ya acara class of champion ini ruan...   \n",
              "10  hidupku sepi untung ruang guru ngadain class o...   \n",
              "11  nonton class of champions nya ruangguru kok ma...   \n",
              "12  itsmofahri basebdg xaviera peserta ruangguru c...   \n",
              "13  cherrywon sandy yesaya adalah dua adik beradik...   \n",
              "14  ada yang mau belajar langsung bareng kaka kaka...   \n",
              "15  nonton class of champions nya ruang guru ya al...   \n",
              "16  pas nonton class of champion ruangguru rasa fa...   \n",
              "17  sebenernya bisa tapi lupa berasa ikut class of...   \n",
              "18  aromatica castnya class of champions ruangguru...   \n",
              "19  lagi myobain liat class of champion nya ruang ...   \n",
              "\n",
              "                                             tokenize  \n",
              "0   [gara, gara, pengen, nonton, class, of, champi...  \n",
              "1   [aku, lagi, nonton, class, of, champions, by, ...  \n",
              "2   [yukisangs, maxwell, itu, peserta, class, of, ...  \n",
              "3   [ah, seru, sekali, heboh, sendiri, thanks, cla...  \n",
              "4   [pendaftaran, paket, brain, academy, online, s...  \n",
              "5   [sandy, mengaku, kena, mental, di, ruang, guru...  \n",
              "6   [smart, move, from, ruangguru, clash, of, cham...  \n",
              "7   [siapa, yang, lg, live, teaching, di, ruanggur...  \n",
              "8   [berkat, class, of, champions, by, ruangguru, ...  \n",
              "9   [tapi, keren, ya, acara, class, of, champion, ...  \n",
              "10  [hidupku, sepi, untung, ruang, guru, ngadain, ...  \n",
              "11  [nonton, class, of, champions, nya, ruangguru,...  \n",
              "12  [itsmofahri, basebdg, xaviera, peserta, ruangg...  \n",
              "13  [cherrywon, sandy, yesaya, adalah, dua, adik, ...  \n",
              "14  [ada, yang, mau, belajar, langsung, bareng, ka...  \n",
              "15  [nonton, class, of, champions, nya, ruang, gur...  \n",
              "16  [pas, nonton, class, of, champion, ruangguru, ...  \n",
              "17  [sebenernya, bisa, tapi, lupa, berasa, ikut, c...  \n",
              "18  [aromatica, castnya, class, of, champions, rua...  \n",
              "19  [lagi, myobain, liat, class, of, champion, nya...  "
            ]
          },
          "execution_count": 15,
          "metadata": {},
          "output_type": "execute_result"
        }
      ],
      "source": [
        "data_coc['tokenize'] = data_coc['cleaning'].apply(tokenize_text)\n",
        "data_coc.head(20)"
      ]
    },
    {
      "cell_type": "markdown",
      "id": "f50ab777",
      "metadata": {
        "id": "f50ab777"
      },
      "source": [
        "## Stopword removal (filtering)"
      ]
    },
    {
      "cell_type": "code",
      "execution_count": null,
      "id": "89b8f350",
      "metadata": {
        "id": "89b8f350",
        "outputId": "a5eb10f8-4c4e-4bcc-c7ec-2ec93220c78d"
      },
      "outputs": [
        {
          "name": "stderr",
          "output_type": "stream",
          "text": [
            "[nltk_data] Downloading package stopwords to\n",
            "[nltk_data]     C:\\Users\\Acer\\AppData\\Roaming\\nltk_data...\n",
            "[nltk_data]   Package stopwords is already up-to-date!\n"
          ]
        }
      ],
      "source": [
        "from nltk.corpus import stopwords\n",
        "nltk.download('stopwords')\n",
        "stop_words = stopwords.words('indonesian')"
      ]
    },
    {
      "cell_type": "code",
      "execution_count": null,
      "id": "32412c15",
      "metadata": {
        "id": "32412c15",
        "outputId": "3a9e428c-b571-43b6-cbd8-c56d9723e4aa"
      },
      "outputs": [
        {
          "name": "stderr",
          "output_type": "stream",
          "text": [
            "D:\\Anaconda\\lib\\site-packages\\ipykernel_launcher.py:4: SettingWithCopyWarning: \n",
            "A value is trying to be set on a copy of a slice from a DataFrame.\n",
            "Try using .loc[row_indexer,col_indexer] = value instead\n",
            "\n",
            "See the caveats in the documentation: https://pandas.pydata.org/pandas-docs/stable/user_guide/indexing.html#returning-a-view-versus-a-copy\n",
            "  after removing the cwd from sys.path.\n"
          ]
        }
      ],
      "source": [
        "def remove_stopwords(text):\n",
        "    return [word for word in text if word not in stop_words]\n",
        "\n",
        "data_coc['filtering'] = data_coc['tokenize'].apply(lambda x: remove_stopwords(x))"
      ]
    },
    {
      "cell_type": "code",
      "execution_count": null,
      "id": "b1564b88",
      "metadata": {
        "id": "b1564b88",
        "outputId": "1fe9389a-e458-496d-bfba-769df3154e2a"
      },
      "outputs": [
        {
          "data": {
            "text/html": [
              "<div>\n",
              "<style scoped>\n",
              "    .dataframe tbody tr th:only-of-type {\n",
              "        vertical-align: middle;\n",
              "    }\n",
              "\n",
              "    .dataframe tbody tr th {\n",
              "        vertical-align: top;\n",
              "    }\n",
              "\n",
              "    .dataframe thead th {\n",
              "        text-align: right;\n",
              "    }\n",
              "</style>\n",
              "<table border=\"1\" class=\"dataframe\">\n",
              "  <thead>\n",
              "    <tr style=\"text-align: right;\">\n",
              "      <th></th>\n",
              "      <th>full_text</th>\n",
              "      <th>cleaning</th>\n",
              "      <th>tokenize</th>\n",
              "      <th>filtering</th>\n",
              "    </tr>\n",
              "  </thead>\n",
              "  <tbody>\n",
              "    <tr>\n",
              "      <th>0</th>\n",
              "      <td>Gara gara pengen nonton Class of Champions leb...</td>\n",
              "      <td>gara gara pengen nonton class of champions leb...</td>\n",
              "      <td>[gara, gara, pengen, nonton, class, of, champi...</td>\n",
              "      <td>[gara, gara, pengen, nonton, class, of, champi...</td>\n",
              "    </tr>\n",
              "    <tr>\n",
              "      <th>1</th>\n",
              "      <td>Aku lagi nonton class of champions by ruanggur...</td>\n",
              "      <td>aku lagi nonton class of champions by ruanggur...</td>\n",
              "      <td>[aku, lagi, nonton, class, of, champions, by, ...</td>\n",
              "      <td>[nonton, class, of, champions, by, ruangguru, ...</td>\n",
              "    </tr>\n",
              "    <tr>\n",
              "      <th>2</th>\n",
              "      <td>@yukisangs Maxwell itu peserta class of champi...</td>\n",
              "      <td>yukisangs maxwell itu peserta class of champio...</td>\n",
              "      <td>[yukisangs, maxwell, itu, peserta, class, of, ...</td>\n",
              "      <td>[yukisangs, maxwell, peserta, class, of, champ...</td>\n",
              "    </tr>\n",
              "    <tr>\n",
              "      <th>3</th>\n",
              "      <td>ah seru sekali heboh sendiri thanks class of c...</td>\n",
              "      <td>ah seru sekali heboh sendiri thanks class of c...</td>\n",
              "      <td>[ah, seru, sekali, heboh, sendiri, thanks, cla...</td>\n",
              "      <td>[ah, seru, heboh, thanks, class, of, champions...</td>\n",
              "    </tr>\n",
              "    <tr>\n",
              "      <th>4</th>\n",
              "      <td>pendaftaran paket brain academy online sma+utb...</td>\n",
              "      <td>pendaftaran paket brain academy online smautbk...</td>\n",
              "      <td>[pendaftaran, paket, brain, academy, online, s...</td>\n",
              "      <td>[pendaftaran, paket, brain, academy, online, s...</td>\n",
              "    </tr>\n",
              "  </tbody>\n",
              "</table>\n",
              "</div>"
            ],
            "text/plain": [
              "                                           full_text  \\\n",
              "0  Gara gara pengen nonton Class of Champions leb...   \n",
              "1  Aku lagi nonton class of champions by ruanggur...   \n",
              "2  @yukisangs Maxwell itu peserta class of champi...   \n",
              "3  ah seru sekali heboh sendiri thanks class of c...   \n",
              "4  pendaftaran paket brain academy online sma+utb...   \n",
              "\n",
              "                                            cleaning  \\\n",
              "0  gara gara pengen nonton class of champions leb...   \n",
              "1  aku lagi nonton class of champions by ruanggur...   \n",
              "2  yukisangs maxwell itu peserta class of champio...   \n",
              "3  ah seru sekali heboh sendiri thanks class of c...   \n",
              "4  pendaftaran paket brain academy online smautbk...   \n",
              "\n",
              "                                            tokenize  \\\n",
              "0  [gara, gara, pengen, nonton, class, of, champi...   \n",
              "1  [aku, lagi, nonton, class, of, champions, by, ...   \n",
              "2  [yukisangs, maxwell, itu, peserta, class, of, ...   \n",
              "3  [ah, seru, sekali, heboh, sendiri, thanks, cla...   \n",
              "4  [pendaftaran, paket, brain, academy, online, s...   \n",
              "\n",
              "                                           filtering  \n",
              "0  [gara, gara, pengen, nonton, class, of, champi...  \n",
              "1  [nonton, class, of, champions, by, ruangguru, ...  \n",
              "2  [yukisangs, maxwell, peserta, class, of, champ...  \n",
              "3  [ah, seru, heboh, thanks, class, of, champions...  \n",
              "4  [pendaftaran, paket, brain, academy, online, s...  "
            ]
          },
          "execution_count": 18,
          "metadata": {},
          "output_type": "execute_result"
        }
      ],
      "source": [
        "data_coc.head()"
      ]
    },
    {
      "cell_type": "markdown",
      "id": "79d9955b",
      "metadata": {
        "id": "79d9955b"
      },
      "source": [
        "## stemming"
      ]
    },
    {
      "cell_type": "code",
      "execution_count": null,
      "id": "1c595f0e",
      "metadata": {
        "id": "1c595f0e"
      },
      "outputs": [],
      "source": [
        "from Sastrawi.Stemmer.StemmerFactory import StemmerFactory\n",
        "from nltk.stem import PorterStemmer\n",
        "from nltk.stem.snowball import SnowballStemmer"
      ]
    },
    {
      "cell_type": "code",
      "execution_count": null,
      "id": "d2e812e5",
      "metadata": {
        "id": "d2e812e5"
      },
      "outputs": [],
      "source": [
        "factory = StemmerFactory()\n",
        "stemmer = factory.create_stemmer()\n",
        "\n",
        "def stem_text(text):\n",
        "    return [stemmer.stem(word) for word in text]"
      ]
    },
    {
      "cell_type": "code",
      "execution_count": null,
      "id": "2a6ece6b",
      "metadata": {
        "id": "2a6ece6b",
        "outputId": "c9b25eb2-877d-42d3-ad1f-e071ebe7e78e"
      },
      "outputs": [
        {
          "name": "stderr",
          "output_type": "stream",
          "text": [
            "D:\\Anaconda\\lib\\site-packages\\ipykernel_launcher.py:1: SettingWithCopyWarning: \n",
            "A value is trying to be set on a copy of a slice from a DataFrame.\n",
            "Try using .loc[row_indexer,col_indexer] = value instead\n",
            "\n",
            "See the caveats in the documentation: https://pandas.pydata.org/pandas-docs/stable/user_guide/indexing.html#returning-a-view-versus-a-copy\n",
            "  \"\"\"Entry point for launching an IPython kernel.\n"
          ]
        },
        {
          "data": {
            "text/html": [
              "<div>\n",
              "<style scoped>\n",
              "    .dataframe tbody tr th:only-of-type {\n",
              "        vertical-align: middle;\n",
              "    }\n",
              "\n",
              "    .dataframe tbody tr th {\n",
              "        vertical-align: top;\n",
              "    }\n",
              "\n",
              "    .dataframe thead th {\n",
              "        text-align: right;\n",
              "    }\n",
              "</style>\n",
              "<table border=\"1\" class=\"dataframe\">\n",
              "  <thead>\n",
              "    <tr style=\"text-align: right;\">\n",
              "      <th></th>\n",
              "      <th>full_text</th>\n",
              "      <th>cleaning</th>\n",
              "      <th>tokenize</th>\n",
              "      <th>filtering</th>\n",
              "      <th>stemming_data</th>\n",
              "      <th>normalization_text</th>\n",
              "    </tr>\n",
              "  </thead>\n",
              "  <tbody>\n",
              "    <tr>\n",
              "      <th>0</th>\n",
              "      <td>Gara gara pengen nonton Class of Champions leb...</td>\n",
              "      <td>gara gara pengen nonton class of champions leb...</td>\n",
              "      <td>[gara, gara, pengen, nonton, class, of, champi...</td>\n",
              "      <td>[gara, gara, pengen, nonton, class, of, champi...</td>\n",
              "      <td>gara gara ken nonton class of champions gua sa...</td>\n",
              "      <td>[gara, gara, ken, nonton, class, of, champions...</td>\n",
              "    </tr>\n",
              "    <tr>\n",
              "      <th>1</th>\n",
              "      <td>Aku lagi nonton class of champions by ruanggur...</td>\n",
              "      <td>aku lagi nonton class of champions by ruanggur...</td>\n",
              "      <td>[aku, lagi, nonton, class, of, champions, by, ...</td>\n",
              "      <td>[nonton, class, of, champions, by, ruangguru, ...</td>\n",
              "      <td>nonton class of champions by ruangguru bneran ...</td>\n",
              "      <td>[nonton, class, of, champions, by, ruangguru, ...</td>\n",
              "    </tr>\n",
              "    <tr>\n",
              "      <th>2</th>\n",
              "      <td>@yukisangs Maxwell itu peserta class of champi...</td>\n",
              "      <td>yukisangs maxwell itu peserta class of champio...</td>\n",
              "      <td>[yukisangs, maxwell, itu, peserta, class, of, ...</td>\n",
              "      <td>[yukisangs, maxwell, peserta, class, of, champ...</td>\n",
              "      <td>yukisangs maxwell serta class of champions uni...</td>\n",
              "      <td>[yukisangs, maxwell, serta, class, of, champio...</td>\n",
              "    </tr>\n",
              "    <tr>\n",
              "      <th>3</th>\n",
              "      <td>ah seru sekali heboh sendiri thanks class of c...</td>\n",
              "      <td>ah seru sekali heboh sendiri thanks class of c...</td>\n",
              "      <td>[ah, seru, sekali, heboh, sendiri, thanks, cla...</td>\n",
              "      <td>[ah, seru, heboh, thanks, class, of, champions...</td>\n",
              "      <td>ah seru heboh thanks class of champions ruang ...</td>\n",
              "      <td>[ah, seru, heboh, thanks, class, of, champions...</td>\n",
              "    </tr>\n",
              "    <tr>\n",
              "      <th>4</th>\n",
              "      <td>pendaftaran paket brain academy online sma+utb...</td>\n",
              "      <td>pendaftaran paket brain academy online smautbk...</td>\n",
              "      <td>[pendaftaran, paket, brain, academy, online, s...</td>\n",
              "      <td>[pendaftaran, paket, brain, academy, online, s...</td>\n",
              "      <td>daftar paket brain academy online smautbk amp ...</td>\n",
              "      <td>[daftar, paket, brain, academy, online, smautb...</td>\n",
              "    </tr>\n",
              "  </tbody>\n",
              "</table>\n",
              "</div>"
            ],
            "text/plain": [
              "                                           full_text  \\\n",
              "0  Gara gara pengen nonton Class of Champions leb...   \n",
              "1  Aku lagi nonton class of champions by ruanggur...   \n",
              "2  @yukisangs Maxwell itu peserta class of champi...   \n",
              "3  ah seru sekali heboh sendiri thanks class of c...   \n",
              "4  pendaftaran paket brain academy online sma+utb...   \n",
              "\n",
              "                                            cleaning  \\\n",
              "0  gara gara pengen nonton class of champions leb...   \n",
              "1  aku lagi nonton class of champions by ruanggur...   \n",
              "2  yukisangs maxwell itu peserta class of champio...   \n",
              "3  ah seru sekali heboh sendiri thanks class of c...   \n",
              "4  pendaftaran paket brain academy online smautbk...   \n",
              "\n",
              "                                            tokenize  \\\n",
              "0  [gara, gara, pengen, nonton, class, of, champi...   \n",
              "1  [aku, lagi, nonton, class, of, champions, by, ...   \n",
              "2  [yukisangs, maxwell, itu, peserta, class, of, ...   \n",
              "3  [ah, seru, sekali, heboh, sendiri, thanks, cla...   \n",
              "4  [pendaftaran, paket, brain, academy, online, s...   \n",
              "\n",
              "                                           filtering  \\\n",
              "0  [gara, gara, pengen, nonton, class, of, champi...   \n",
              "1  [nonton, class, of, champions, by, ruangguru, ...   \n",
              "2  [yukisangs, maxwell, peserta, class, of, champ...   \n",
              "3  [ah, seru, heboh, thanks, class, of, champions...   \n",
              "4  [pendaftaran, paket, brain, academy, online, s...   \n",
              "\n",
              "                                       stemming_data  \\\n",
              "0  gara gara ken nonton class of champions gua sa...   \n",
              "1  nonton class of champions by ruangguru bneran ...   \n",
              "2  yukisangs maxwell serta class of champions uni...   \n",
              "3  ah seru heboh thanks class of champions ruang ...   \n",
              "4  daftar paket brain academy online smautbk amp ...   \n",
              "\n",
              "                                  normalization_text  \n",
              "0  [gara, gara, ken, nonton, class, of, champions...  \n",
              "1  [nonton, class, of, champions, by, ruangguru, ...  \n",
              "2  [yukisangs, maxwell, serta, class, of, champio...  \n",
              "3  [ah, seru, heboh, thanks, class, of, champions...  \n",
              "4  [daftar, paket, brain, academy, online, smautb...  "
            ]
          },
          "execution_count": 24,
          "metadata": {},
          "output_type": "execute_result"
        }
      ],
      "source": [
        "data_coc['stemming_data'] = data_coc['filtering'].apply(lambda x: ' '.join(stem_text(x)))\n",
        "data_coc.head()"
      ]
    },
    {
      "cell_type": "markdown",
      "id": "7eb14fe3",
      "metadata": {
        "id": "7eb14fe3"
      },
      "source": [
        "## normalisasi"
      ]
    },
    {
      "cell_type": "code",
      "execution_count": null,
      "id": "2a60bcd8",
      "metadata": {
        "id": "2a60bcd8"
      },
      "outputs": [],
      "source": [
        "def text_normalization(text):\n",
        "    normalized_text = text\n",
        "    return normalized_text"
      ]
    },
    {
      "cell_type": "code",
      "execution_count": null,
      "id": "c6e3fa0b",
      "metadata": {
        "id": "c6e3fa0b",
        "outputId": "318558f1-4b3f-4ea3-e24a-0de107019130"
      },
      "outputs": [
        {
          "name": "stderr",
          "output_type": "stream",
          "text": [
            "D:\\Anaconda\\lib\\site-packages\\ipykernel_launcher.py:1: SettingWithCopyWarning: \n",
            "A value is trying to be set on a copy of a slice from a DataFrame.\n",
            "Try using .loc[row_indexer,col_indexer] = value instead\n",
            "\n",
            "See the caveats in the documentation: https://pandas.pydata.org/pandas-docs/stable/user_guide/indexing.html#returning-a-view-versus-a-copy\n",
            "  \"\"\"Entry point for launching an IPython kernel.\n"
          ]
        },
        {
          "data": {
            "text/html": [
              "<div>\n",
              "<style scoped>\n",
              "    .dataframe tbody tr th:only-of-type {\n",
              "        vertical-align: middle;\n",
              "    }\n",
              "\n",
              "    .dataframe tbody tr th {\n",
              "        vertical-align: top;\n",
              "    }\n",
              "\n",
              "    .dataframe thead th {\n",
              "        text-align: right;\n",
              "    }\n",
              "</style>\n",
              "<table border=\"1\" class=\"dataframe\">\n",
              "  <thead>\n",
              "    <tr style=\"text-align: right;\">\n",
              "      <th></th>\n",
              "      <th>full_text</th>\n",
              "      <th>cleaning</th>\n",
              "      <th>tokenize</th>\n",
              "      <th>filtering</th>\n",
              "      <th>stemming_data</th>\n",
              "      <th>normalization_text</th>\n",
              "    </tr>\n",
              "  </thead>\n",
              "  <tbody>\n",
              "    <tr>\n",
              "      <th>0</th>\n",
              "      <td>Gara gara pengen nonton Class of Champions leb...</td>\n",
              "      <td>gara gara pengen nonton class of champions leb...</td>\n",
              "      <td>[gara, gara, pengen, nonton, class, of, champi...</td>\n",
              "      <td>[gara, gara, pengen, nonton, class, of, champi...</td>\n",
              "      <td>gara gara ken nonton class of champions gua sa...</td>\n",
              "      <td>gara gara ken nonton class of champions gua sa...</td>\n",
              "    </tr>\n",
              "    <tr>\n",
              "      <th>1</th>\n",
              "      <td>Aku lagi nonton class of champions by ruanggur...</td>\n",
              "      <td>aku lagi nonton class of champions by ruanggur...</td>\n",
              "      <td>[aku, lagi, nonton, class, of, champions, by, ...</td>\n",
              "      <td>[nonton, class, of, champions, by, ruangguru, ...</td>\n",
              "      <td>nonton class of champions by ruangguru bneran ...</td>\n",
              "      <td>nonton class of champions by ruangguru bneran ...</td>\n",
              "    </tr>\n",
              "    <tr>\n",
              "      <th>2</th>\n",
              "      <td>@yukisangs Maxwell itu peserta class of champi...</td>\n",
              "      <td>yukisangs maxwell itu peserta class of champio...</td>\n",
              "      <td>[yukisangs, maxwell, itu, peserta, class, of, ...</td>\n",
              "      <td>[yukisangs, maxwell, peserta, class, of, champ...</td>\n",
              "      <td>yukisangs maxwell serta class of champions uni...</td>\n",
              "      <td>yukisangs maxwell serta class of champions uni...</td>\n",
              "    </tr>\n",
              "    <tr>\n",
              "      <th>3</th>\n",
              "      <td>ah seru sekali heboh sendiri thanks class of c...</td>\n",
              "      <td>ah seru sekali heboh sendiri thanks class of c...</td>\n",
              "      <td>[ah, seru, sekali, heboh, sendiri, thanks, cla...</td>\n",
              "      <td>[ah, seru, heboh, thanks, class, of, champions...</td>\n",
              "      <td>ah seru heboh thanks class of champions ruang ...</td>\n",
              "      <td>ah seru heboh thanks class of champions ruang ...</td>\n",
              "    </tr>\n",
              "    <tr>\n",
              "      <th>4</th>\n",
              "      <td>pendaftaran paket brain academy online sma+utb...</td>\n",
              "      <td>pendaftaran paket brain academy online smautbk...</td>\n",
              "      <td>[pendaftaran, paket, brain, academy, online, s...</td>\n",
              "      <td>[pendaftaran, paket, brain, academy, online, s...</td>\n",
              "      <td>daftar paket brain academy online smautbk amp ...</td>\n",
              "      <td>daftar paket brain academy online smautbk amp ...</td>\n",
              "    </tr>\n",
              "  </tbody>\n",
              "</table>\n",
              "</div>"
            ],
            "text/plain": [
              "                                           full_text  \\\n",
              "0  Gara gara pengen nonton Class of Champions leb...   \n",
              "1  Aku lagi nonton class of champions by ruanggur...   \n",
              "2  @yukisangs Maxwell itu peserta class of champi...   \n",
              "3  ah seru sekali heboh sendiri thanks class of c...   \n",
              "4  pendaftaran paket brain academy online sma+utb...   \n",
              "\n",
              "                                            cleaning  \\\n",
              "0  gara gara pengen nonton class of champions leb...   \n",
              "1  aku lagi nonton class of champions by ruanggur...   \n",
              "2  yukisangs maxwell itu peserta class of champio...   \n",
              "3  ah seru sekali heboh sendiri thanks class of c...   \n",
              "4  pendaftaran paket brain academy online smautbk...   \n",
              "\n",
              "                                            tokenize  \\\n",
              "0  [gara, gara, pengen, nonton, class, of, champi...   \n",
              "1  [aku, lagi, nonton, class, of, champions, by, ...   \n",
              "2  [yukisangs, maxwell, itu, peserta, class, of, ...   \n",
              "3  [ah, seru, sekali, heboh, sendiri, thanks, cla...   \n",
              "4  [pendaftaran, paket, brain, academy, online, s...   \n",
              "\n",
              "                                           filtering  \\\n",
              "0  [gara, gara, pengen, nonton, class, of, champi...   \n",
              "1  [nonton, class, of, champions, by, ruangguru, ...   \n",
              "2  [yukisangs, maxwell, peserta, class, of, champ...   \n",
              "3  [ah, seru, heboh, thanks, class, of, champions...   \n",
              "4  [pendaftaran, paket, brain, academy, online, s...   \n",
              "\n",
              "                                       stemming_data  \\\n",
              "0  gara gara ken nonton class of champions gua sa...   \n",
              "1  nonton class of champions by ruangguru bneran ...   \n",
              "2  yukisangs maxwell serta class of champions uni...   \n",
              "3  ah seru heboh thanks class of champions ruang ...   \n",
              "4  daftar paket brain academy online smautbk amp ...   \n",
              "\n",
              "                                  normalization_text  \n",
              "0  gara gara ken nonton class of champions gua sa...  \n",
              "1  nonton class of champions by ruangguru bneran ...  \n",
              "2  yukisangs maxwell serta class of champions uni...  \n",
              "3  ah seru heboh thanks class of champions ruang ...  \n",
              "4  daftar paket brain academy online smautbk amp ...  "
            ]
          },
          "execution_count": 26,
          "metadata": {},
          "output_type": "execute_result"
        }
      ],
      "source": [
        "data_coc['normalization_text'] = data_coc['stemming_data'].apply(text_normalization)\n",
        "data_coc.head()"
      ]
    },
    {
      "cell_type": "code",
      "execution_count": null,
      "id": "3ef310a8",
      "metadata": {
        "id": "3ef310a8"
      },
      "outputs": [],
      "source": [
        "data_coc.to_csv('hasil-cleaning.csv', encoding = 'utf8', index = False)"
      ]
    },
    {
      "cell_type": "code",
      "execution_count": null,
      "id": "5d56f400",
      "metadata": {
        "id": "5d56f400"
      },
      "outputs": [],
      "source": []
    }
  ],
  "metadata": {
    "kernelspec": {
      "display_name": "Python 3 (ipykernel)",
      "language": "python",
      "name": "python3"
    },
    "language_info": {
      "codemirror_mode": {
        "name": "ipython",
        "version": 3
      },
      "file_extension": ".py",
      "mimetype": "text/x-python",
      "name": "python",
      "nbconvert_exporter": "python",
      "pygments_lexer": "ipython3",
      "version": "3.7.6"
    },
    "colab": {
      "provenance": [],
      "include_colab_link": true
    }
  },
  "nbformat": 4,
  "nbformat_minor": 5
}